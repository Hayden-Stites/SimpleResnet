{
 "cells": [
  {
   "cell_type": "code",
   "execution_count": null,
   "id": "ac0968bf",
   "metadata": {},
   "outputs": [],
   "source": [
    "# Sorts mixed files into dog/cat folders by pet_id in filenames for use in ImageFolder"
   ]
  },
  {
   "cell_type": "code",
   "execution_count": 138,
   "id": "74183f66",
   "metadata": {},
   "outputs": [],
   "source": [
    "import os, csv\n",
    "import shutil"
   ]
  },
  {
   "cell_type": "code",
   "execution_count": 13,
   "id": "85a942c3",
   "metadata": {},
   "outputs": [],
   "source": [
    "data_dir = \"./petfinder-adoption-prediction\""
   ]
  },
  {
   "cell_type": "code",
   "execution_count": 147,
   "id": "765cd66c",
   "metadata": {
    "scrolled": false
   },
   "outputs": [
    {
     "name": "stdout",
     "output_type": "stream",
     "text": [
      "['2', '2', '2', '1', '2', '2', '2', '2', '2', '1']\n",
      "['e2dfc2935', 'f153b465f', '3c90f3f54', 'e02abc8a3', '09f0df7d1', '0487529d4', 'bae7c4b1c', '548bcf206', '0f82cea1e', 'a3787f15e']\n"
     ]
    }
   ],
   "source": [
    "species_list = []\n",
    "pet_id_list = []\n",
    "\n",
    "with open(data_dir+\"/test/test.csv\", encoding=\"utf8\") as csvfile:\n",
    "    reader = csv.reader(csvfile)\n",
    "    for row in reader:\n",
    "        species_list.append(row[0])\n",
    "        pet_id_list.append(row[21])\n",
    "    species_list = species_list[1:]\n",
    "    pet_id_list = pet_id_list[1:]\n",
    "    \n",
    "print(species_list[0:10])\n",
    "print(pet_id_list[0:10])"
   ]
  },
  {
   "cell_type": "code",
   "execution_count": 148,
   "id": "d9f6897b",
   "metadata": {},
   "outputs": [],
   "source": [
    "file_index = 0\n",
    "\n",
    "#Get pet_id from list, find correlated images, check species_id and move images to resulting folder\n",
    "for pet_id in pet_id_list:\n",
    "    current_pet_id = pet_id_list[file_index]\n",
    "    \n",
    "    for file in os.listdir(data_dir+\"/test/test_images\"):\n",
    "        if file.endswith(\".jpg\"):\n",
    "            if current_pet_id in file:\n",
    "                #pet_id, file_name, species(1=dog, 2=cat)\n",
    "                #print(current_pet_id, file, species_list[file_index])\n",
    "                if int(species_list[file_index]) == 1:\n",
    "                    shutil.move(os.path.join(data_dir+\"/test/test_images\", file), os.path.join(data_dir+\"/test/test_dogs\", file))\n",
    "                elif int(species_list[file_index]) == 2:\n",
    "                    shutil.move(os.path.join(data_dir+\"/test/test_images\", file), os.path.join(data_dir+\"/test/test_cats\", file))\n",
    "                else:\n",
    "                    print(\"what\")\n",
    "                \n",
    "    file_index += 1"
   ]
  }
 ],
 "metadata": {
  "kernelspec": {
   "display_name": "Python 3 (ipykernel)",
   "language": "python",
   "name": "python3"
  },
  "language_info": {
   "codemirror_mode": {
    "name": "ipython",
    "version": 3
   },
   "file_extension": ".py",
   "mimetype": "text/x-python",
   "name": "python",
   "nbconvert_exporter": "python",
   "pygments_lexer": "ipython3",
   "version": "3.9.12"
  }
 },
 "nbformat": 4,
 "nbformat_minor": 5
}
